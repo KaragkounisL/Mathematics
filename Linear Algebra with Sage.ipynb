{
 "cells": [
  {
   "cell_type": "markdown",
   "metadata": {},
   "source": [
    "## Linear Equations "
   ]
  },
  {
   "cell_type": "code",
   "execution_count": 12,
   "metadata": {},
   "outputs": [
    {
     "data": {
      "text/plain": [
       "[[x1 == -1, x2 == 1, x3 == 2]]"
      ]
     },
     "execution_count": 12,
     "metadata": {},
     "output_type": "execute_result"
    }
   ],
   "source": [
    "#Solving Linear Equation Way - 1\n",
    "var('x1,x2,x3')\n",
    "solve([2*x1+3*x2-4*x3==-7, -x1+2*x2-x3==1, x1+2*x2+3*x3==7],x1,x2,x3)"
   ]
  },
  {
   "cell_type": "code",
   "execution_count": 5,
   "metadata": {},
   "outputs": [
    {
     "data": {
      "text/plain": [
       "(-1, 1, 2)"
      ]
     },
     "execution_count": 5,
     "metadata": {},
     "output_type": "execute_result"
    }
   ],
   "source": [
    "#Solving Linear Equation Way - 2\n",
    "A = matrix([[2,3,-4],[-1,2,-1],[1,2,3]])\n",
    "b = vector([-7,1,7])\n",
    "A.solve_right(b)"
   ]
  },
  {
   "cell_type": "markdown",
   "metadata": {},
   "source": [
    "## Extracting Rows and Columns of a Matrix"
   ]
  },
  {
   "cell_type": "code",
   "execution_count": 6,
   "metadata": {},
   "outputs": [
    {
     "data": {
      "text/plain": [
       "[  6   7   3  -2]\n",
       "[ 12  10  -7   1]\n",
       "[-10   2  -1   0]\n",
       "[ 14   7   5  12]"
      ]
     },
     "execution_count": 6,
     "metadata": {},
     "output_type": "execute_result"
    }
   ],
   "source": [
    "A = random_matrix(ZZ,4,4,x=-10,y=20) #random 4x4 integer entries vary from -10 to 20\n",
    "A"
   ]
  },
  {
   "cell_type": "code",
   "execution_count": 7,
   "metadata": {},
   "outputs": [
    {
     "data": {
      "text/plain": [
       "[(1, 0, 0, 0), (0, 1, 0, 0), (0, 0, 1, 0), (0, 0, 0, 1)]"
      ]
     },
     "execution_count": 7,
     "metadata": {},
     "output_type": "execute_result"
    }
   ],
   "source": [
    "I4 = identity_matrix(4)\n",
    "E = I4.columns()\n",
    "E"
   ]
  },
  {
   "cell_type": "code",
   "execution_count": 8,
   "metadata": {},
   "outputs": [
    {
     "data": {
      "text/plain": [
       "(6, 12, -10, 14)"
      ]
     },
     "execution_count": 8,
     "metadata": {},
     "output_type": "execute_result"
    }
   ],
   "source": [
    "j = 0 # column index\n",
    "A*E[j]"
   ]
  },
  {
   "cell_type": "code",
   "execution_count": 9,
   "metadata": {},
   "outputs": [
    {
     "data": {
      "text/plain": [
       "(6, 7, 3, -2)"
      ]
     },
     "execution_count": 9,
     "metadata": {},
     "output_type": "execute_result"
    }
   ],
   "source": [
    "i = 0 # row index\n",
    "E[i]*A"
   ]
  },
  {
   "cell_type": "code",
   "execution_count": 10,
   "metadata": {},
   "outputs": [
    {
     "data": {
      "text/plain": [
       "2"
      ]
     },
     "execution_count": 10,
     "metadata": {},
     "output_type": "execute_result"
    }
   ],
   "source": [
    "i, j, = 2, 1 # i,j index element of A\n",
    "E[i]*A*E[j]"
   ]
  },
  {
   "cell_type": "code",
   "execution_count": 11,
   "metadata": {},
   "outputs": [
    {
     "data": {
      "text/plain": [
       "[0 0 0 0]\n",
       "[0 0 0 0]\n",
       "[0 1 0 0]\n",
       "[0 0 0 0]"
      ]
     },
     "execution_count": 11,
     "metadata": {},
     "output_type": "execute_result"
    }
   ],
   "source": [
    "i, j = 2, 1\n",
    "column_matrix(E[i])*E[j].row() # e_i*(e_j)^T"
   ]
  },
  {
   "cell_type": "markdown",
   "metadata": {},
   "source": [
    "## Elementary Row Operations\n",
    "  - Interchaging any two rows\n",
    "  - Multiplying any row by a scalar\n",
    "  - Adding any two rows"
   ]
  },
  {
   "cell_type": "code",
   "execution_count": 17,
   "metadata": {},
   "outputs": [
    {
     "data": {
      "text/plain": [
       "[ 1  2  3  4]\n",
       "[ 5  6  7  8]\n",
       "[ 9 10 11 12]\n",
       "[13 14 15 16]"
      ]
     },
     "execution_count": 17,
     "metadata": {},
     "output_type": "execute_result"
    }
   ],
   "source": [
    "A = matrix(4,4,[1..16])\n",
    "B = copy(A)\n",
    "B"
   ]
  },
  {
   "cell_type": "code",
   "execution_count": 18,
   "metadata": {},
   "outputs": [
    {
     "data": {
      "text/plain": [
       "[ 1  2  3  4]\n",
       "[ 9 10 11 12]\n",
       "[ 5  6  7  8]\n",
       "[13 14 15 16]"
      ]
     },
     "execution_count": 18,
     "metadata": {},
     "output_type": "execute_result"
    }
   ],
   "source": [
    "B.swap_rows(1,2);B #swapping rows"
   ]
  },
  {
   "cell_type": "code",
   "execution_count": 19,
   "metadata": {},
   "outputs": [
    {
     "data": {
      "text/plain": [
       "[ 1  2  3  4]\n",
       "[ 9 10 11 12]\n",
       "[50 60 70 80]\n",
       "[13 14 15 16]"
      ]
     },
     "execution_count": 19,
     "metadata": {},
     "output_type": "execute_result"
    }
   ],
   "source": [
    "B.rescale_row(2,10); B #3rd row multiplied by 10"
   ]
  },
  {
   "cell_type": "code",
   "execution_count": 20,
   "metadata": {},
   "outputs": [
    {
     "data": {
      "text/plain": [
       "[  1   2   3   4]\n",
       "[  9  10  11  12]\n",
       "[140 160 180 200]\n",
       "[ 13  14  15  16]"
      ]
     },
     "execution_count": 20,
     "metadata": {},
     "output_type": "execute_result"
    }
   ],
   "source": [
    "B.add_multiple_of_row(2,1,10);B #2nd row gets multiplied by 10 and gets added to 3rd row"
   ]
  },
  {
   "cell_type": "markdown",
   "metadata": {},
   "source": [
    "## Echelon Matrix"
   ]
  },
  {
   "cell_type": "code",
   "execution_count": 23,
   "metadata": {},
   "outputs": [
    {
     "data": {
      "text/html": [
       "<html><script type=\"math/tex; mode=display\">\\newcommand{\\Bold}[1]{\\mathbf{#1}}\\left(\\begin{array}{rrrr}\n",
       "1 & 2 & 3 & 4 \\\\\n",
       "4 & 3 & 2 & 1 \\\\\n",
       "6 & 7 & 8 & 9 \\\\\n",
       "9 & 8 & 7 & 6\n",
       "\\end{array}\\right)</script></html>"
      ],
      "text/latex": [
       "$$\\newcommand{\\Bold}[1]{\\mathbf{#1}}\\left(\\begin{array}{rrrr}\n",
       "1 & 2 & 3 & 4 \\\\\n",
       "4 & 3 & 2 & 1 \\\\\n",
       "6 & 7 & 8 & 9 \\\\\n",
       "9 & 8 & 7 & 6\n",
       "\\end{array}\\right)$$"
      ],
      "text/plain": [
       "[1 2 3 4]\n",
       "[4 3 2 1]\n",
       "[6 7 8 9]\n",
       "[9 8 7 6]"
      ]
     },
     "metadata": {},
     "output_type": "display_data"
    }
   ],
   "source": [
    "A = matrix(QQ,[[1,2,3,4],[4,3,2,1],[6,7,8,9],[9,8,7,6]])\n",
    "show(A)"
   ]
  },
  {
   "cell_type": "code",
   "execution_count": 26,
   "metadata": {},
   "outputs": [
    {
     "data": {
      "text/plain": [
       "[1 2 3 4]\n",
       "[4 3 2 1]\n",
       "[6 7 8 9]\n",
       "[9 8 7 6]"
      ]
     },
     "execution_count": 26,
     "metadata": {},
     "output_type": "execute_result"
    }
   ],
   "source": [
    "A1 = A.echelon_form(); A"
   ]
  },
  {
   "cell_type": "code",
   "execution_count": 27,
   "metadata": {},
   "outputs": [
    {
     "data": {
      "text/plain": [
       "[ 1  0 -1 -2]\n",
       "[ 0  1  2  3]\n",
       "[ 0  0  0  0]\n",
       "[ 0  0  0  0]"
      ]
     },
     "execution_count": 27,
     "metadata": {},
     "output_type": "execute_result"
    }
   ],
   "source": [
    "A1"
   ]
  },
  {
   "cell_type": "code",
   "execution_count": 28,
   "metadata": {},
   "outputs": [
    {
     "data": {
      "text/plain": [
       "[ 1  0 -1 -2]\n",
       "[ 0  1  2  3]\n",
       "[ 0  0  0  0]\n",
       "[ 0  0  0  0]"
      ]
     },
     "execution_count": 28,
     "metadata": {},
     "output_type": "execute_result"
    }
   ],
   "source": [
    "A.echelonize();A"
   ]
  },
  {
   "cell_type": "code",
   "execution_count": 29,
   "metadata": {},
   "outputs": [
    {
     "data": {
      "text/plain": [
       "[ 1  0 -1 -2]\n",
       "[ 0  1  2  3]\n",
       "[ 0  0  0  0]\n",
       "[ 0  0  0  0]"
      ]
     },
     "execution_count": 29,
     "metadata": {},
     "output_type": "execute_result"
    }
   ],
   "source": [
    "A.rref() # reduced row echelon form"
   ]
  },
  {
   "cell_type": "markdown",
   "metadata": {},
   "source": [
    "### RREF Code"
   ]
  },
  {
   "cell_type": "code",
   "execution_count": 35,
   "metadata": {},
   "outputs": [
    {
     "name": "stdout",
     "output_type": "stream",
     "text": [
      "The original matrix is\n"
     ]
    },
    {
     "data": {
      "text/html": [
       "<html><script type=\"math/tex; mode=display\">\\newcommand{\\Bold}[1]{\\mathbf{#1}}\\left(\\begin{array}{rrr}\n",
       "3 & -2 & 1 \\\\\n",
       "6 & -1 & 3 \\\\\n",
       "4 & 1 & 8\n",
       "\\end{array}\\right)</script></html>"
      ],
      "text/latex": [
       "$$\\newcommand{\\Bold}[1]{\\mathbf{#1}}\\left(\\begin{array}{rrr}\n",
       "3 & -2 & 1 \\\\\n",
       "6 & -1 & 3 \\\\\n",
       "4 & 1 & 8\n",
       "\\end{array}\\right)$$"
      ],
      "text/plain": [
       "[ 3 -2  1]\n",
       "[ 6 -1  3]\n",
       "[ 4  1  8]"
      ]
     },
     "metadata": {},
     "output_type": "display_data"
    },
    {
     "name": "stdout",
     "output_type": "stream",
     "text": [
      "We add -2 times row 1 to row 2\n"
     ]
    },
    {
     "data": {
      "text/html": [
       "<html><script type=\"math/tex; mode=display\">\\newcommand{\\Bold}[1]{\\mathbf{#1}}\\left(\\begin{array}{rrr}\n",
       "3 & -2 & 1 \\\\\n",
       "0 & 3 & 1 \\\\\n",
       "4 & 1 & 8\n",
       "\\end{array}\\right)</script></html>"
      ],
      "text/latex": [
       "$$\\newcommand{\\Bold}[1]{\\mathbf{#1}}\\left(\\begin{array}{rrr}\n",
       "3 & -2 & 1 \\\\\n",
       "0 & 3 & 1 \\\\\n",
       "4 & 1 & 8\n",
       "\\end{array}\\right)$$"
      ],
      "text/plain": [
       "[ 3 -2  1]\n",
       "[ 0  3  1]\n",
       "[ 4  1  8]"
      ]
     },
     "metadata": {},
     "output_type": "display_data"
    },
    {
     "name": "stdout",
     "output_type": "stream",
     "text": [
      "We add -4/3 times row 1 to row 3\n"
     ]
    },
    {
     "data": {
      "text/html": [
       "<html><script type=\"math/tex; mode=display\">\\newcommand{\\Bold}[1]{\\mathbf{#1}}\\left(\\begin{array}{rrr}\n",
       "3 & -2 & 1 \\\\\n",
       "0 & 3 & 1 \\\\\n",
       "0 & \\frac{11}{3} & \\frac{20}{3}\n",
       "\\end{array}\\right)</script></html>"
      ],
      "text/latex": [
       "$$\\newcommand{\\Bold}[1]{\\mathbf{#1}}\\left(\\begin{array}{rrr}\n",
       "3 & -2 & 1 \\\\\n",
       "0 & 3 & 1 \\\\\n",
       "0 & \\frac{11}{3} & \\frac{20}{3}\n",
       "\\end{array}\\right)$$"
      ],
      "text/plain": [
       "[   3   -2    1]\n",
       "[   0    3    1]\n",
       "[   0 11/3 20/3]"
      ]
     },
     "metadata": {},
     "output_type": "display_data"
    },
    {
     "name": "stdout",
     "output_type": "stream",
     "text": [
      "We add -11/9 times row 2 to row 3\n"
     ]
    },
    {
     "data": {
      "text/html": [
       "<html><script type=\"math/tex; mode=display\">\\newcommand{\\Bold}[1]{\\mathbf{#1}}\\left(\\begin{array}{rrr}\n",
       "3 & -2 & 1 \\\\\n",
       "0 & 3 & 1 \\\\\n",
       "0 & 0 & \\frac{49}{9}\n",
       "\\end{array}\\right)</script></html>"
      ],
      "text/latex": [
       "$$\\newcommand{\\Bold}[1]{\\mathbf{#1}}\\left(\\begin{array}{rrr}\n",
       "3 & -2 & 1 \\\\\n",
       "0 & 3 & 1 \\\\\n",
       "0 & 0 & \\frac{49}{9}\n",
       "\\end{array}\\right)$$"
      ],
      "text/plain": [
       "[   3   -2    1]\n",
       "[   0    3    1]\n",
       "[   0    0 49/9]"
      ]
     },
     "metadata": {},
     "output_type": "display_data"
    },
    {
     "name": "stdout",
     "output_type": "stream",
     "text": [
      "We add -9/49 times row 3 to the row 2\n"
     ]
    },
    {
     "data": {
      "text/html": [
       "<html><script type=\"math/tex; mode=display\">\\newcommand{\\Bold}[1]{\\mathbf{#1}}\\left(\\begin{array}{rrr}\n",
       "3 & -2 & 1 \\\\\n",
       "0 & 3 & 0 \\\\\n",
       "0 & 0 & \\frac{49}{9}\n",
       "\\end{array}\\right)</script></html>"
      ],
      "text/latex": [
       "$$\\newcommand{\\Bold}[1]{\\mathbf{#1}}\\left(\\begin{array}{rrr}\n",
       "3 & -2 & 1 \\\\\n",
       "0 & 3 & 0 \\\\\n",
       "0 & 0 & \\frac{49}{9}\n",
       "\\end{array}\\right)$$"
      ],
      "text/plain": [
       "[   3   -2    1]\n",
       "[   0    3    0]\n",
       "[   0    0 49/9]"
      ]
     },
     "metadata": {},
     "output_type": "display_data"
    },
    {
     "name": "stdout",
     "output_type": "stream",
     "text": [
      "We add -9/49 times row 3 to the row 1\n"
     ]
    },
    {
     "data": {
      "text/html": [
       "<html><script type=\"math/tex; mode=display\">\\newcommand{\\Bold}[1]{\\mathbf{#1}}\\left(\\begin{array}{rrr}\n",
       "3 & -2 & 0 \\\\\n",
       "0 & 3 & 0 \\\\\n",
       "0 & 0 & \\frac{49}{9}\n",
       "\\end{array}\\right)</script></html>"
      ],
      "text/latex": [
       "$$\\newcommand{\\Bold}[1]{\\mathbf{#1}}\\left(\\begin{array}{rrr}\n",
       "3 & -2 & 0 \\\\\n",
       "0 & 3 & 0 \\\\\n",
       "0 & 0 & \\frac{49}{9}\n",
       "\\end{array}\\right)$$"
      ],
      "text/plain": [
       "[   3   -2    0]\n",
       "[   0    3    0]\n",
       "[   0    0 49/9]"
      ]
     },
     "metadata": {},
     "output_type": "display_data"
    },
    {
     "name": "stdout",
     "output_type": "stream",
     "text": [
      "We add 2/3 times row 2 to the row 1\n"
     ]
    },
    {
     "data": {
      "text/html": [
       "<html><script type=\"math/tex; mode=display\">\\newcommand{\\Bold}[1]{\\mathbf{#1}}\\left(\\begin{array}{rrr}\n",
       "3 & 0 & 0 \\\\\n",
       "0 & 3 & 0 \\\\\n",
       "0 & 0 & \\frac{49}{9}\n",
       "\\end{array}\\right)</script></html>"
      ],
      "text/latex": [
       "$$\\newcommand{\\Bold}[1]{\\mathbf{#1}}\\left(\\begin{array}{rrr}\n",
       "3 & 0 & 0 \\\\\n",
       "0 & 3 & 0 \\\\\n",
       "0 & 0 & \\frac{49}{9}\n",
       "\\end{array}\\right)$$"
      ],
      "text/plain": [
       "[   3    0    0]\n",
       "[   0    3    0]\n",
       "[   0    0 49/9]"
      ]
     },
     "metadata": {},
     "output_type": "display_data"
    },
    {
     "name": "stdout",
     "output_type": "stream",
     "text": [
      "We divide row 1 by 3\n"
     ]
    },
    {
     "data": {
      "text/html": [
       "<html><script type=\"math/tex; mode=display\">\\newcommand{\\Bold}[1]{\\mathbf{#1}}\\left(\\begin{array}{rrr}\n",
       "1 & 0 & 0 \\\\\n",
       "0 & 3 & 0 \\\\\n",
       "0 & 0 & \\frac{49}{9}\n",
       "\\end{array}\\right)</script></html>"
      ],
      "text/latex": [
       "$$\\newcommand{\\Bold}[1]{\\mathbf{#1}}\\left(\\begin{array}{rrr}\n",
       "1 & 0 & 0 \\\\\n",
       "0 & 3 & 0 \\\\\n",
       "0 & 0 & \\frac{49}{9}\n",
       "\\end{array}\\right)$$"
      ],
      "text/plain": [
       "[   1    0    0]\n",
       "[   0    3    0]\n",
       "[   0    0 49/9]"
      ]
     },
     "metadata": {},
     "output_type": "display_data"
    },
    {
     "name": "stdout",
     "output_type": "stream",
     "text": [
      "We divide row 2 by 3\n"
     ]
    },
    {
     "data": {
      "text/html": [
       "<html><script type=\"math/tex; mode=display\">\\newcommand{\\Bold}[1]{\\mathbf{#1}}\\left(\\begin{array}{rrr}\n",
       "1 & 0 & 0 \\\\\n",
       "0 & 1 & 0 \\\\\n",
       "0 & 0 & \\frac{49}{9}\n",
       "\\end{array}\\right)</script></html>"
      ],
      "text/latex": [
       "$$\\newcommand{\\Bold}[1]{\\mathbf{#1}}\\left(\\begin{array}{rrr}\n",
       "1 & 0 & 0 \\\\\n",
       "0 & 1 & 0 \\\\\n",
       "0 & 0 & \\frac{49}{9}\n",
       "\\end{array}\\right)$$"
      ],
      "text/plain": [
       "[   1    0    0]\n",
       "[   0    1    0]\n",
       "[   0    0 49/9]"
      ]
     },
     "metadata": {},
     "output_type": "display_data"
    },
    {
     "name": "stdout",
     "output_type": "stream",
     "text": [
      "We divide row 3 by 49/9\n"
     ]
    },
    {
     "data": {
      "text/html": [
       "<html><script type=\"math/tex; mode=display\">\\newcommand{\\Bold}[1]{\\mathbf{#1}}\\left(\\begin{array}{rrr}\n",
       "1 & 0 & 0 \\\\\n",
       "0 & 1 & 0 \\\\\n",
       "0 & 0 & 1\n",
       "\\end{array}\\right)</script></html>"
      ],
      "text/latex": [
       "$$\\newcommand{\\Bold}[1]{\\mathbf{#1}}\\left(\\begin{array}{rrr}\n",
       "1 & 0 & 0 \\\\\n",
       "0 & 1 & 0 \\\\\n",
       "0 & 0 & 1\n",
       "\\end{array}\\right)$$"
      ],
      "text/plain": [
       "[1 0 0]\n",
       "[0 1 0]\n",
       "[0 0 1]"
      ]
     },
     "metadata": {},
     "output_type": "display_data"
    }
   ],
   "source": [
    "## Step by step RREF\n",
    "A=matrix(QQ, [[3,-2,1],[6,-1,3],[4,1,8]])\n",
    "m=A.nrows()\n",
    "print('The original matrix is')\n",
    "show(A)\n",
    "####\n",
    "for k in range(0,m-1):\n",
    "    if A[k,k] == 0:\n",
    "        listA = [(A[j,k],j) for j in range(k,m)]\n",
    "        maxv, pivot = max(listA)\n",
    "        A[pivot,:],A[k,:]=A[k,:],A[pivot,:]\n",
    "        print('We permute rows %d and %d'%(k+1,pivot+1))\n",
    "        show(A)\n",
    "    for n in range(k+1,m):\n",
    "        a=A[k,k]\n",
    "        if A[n,k] != 0:\n",
    "            print( \"We add %s times row %d to row %d\"%(-A[n,k]/a, k+1, n+1))\n",
    "            A=A.with_added_multiple_of_row(n,k,-A[n,k]/a)\n",
    "            show(A)\n",
    "for k in range(m-1,-1,-1):\n",
    "    for n in range(k-1,-1,-1):\n",
    "        a=A[k,k]\n",
    "        if A[n,k]!=0:\n",
    "            print( \"We add %s times row %d to the row %d\"%(-A[n,k]/a, k+1, n+1))\n",
    "            A=A.with_added_multiple_of_row(n,k,-A[n,k]/a)\n",
    "            show(A)\n",
    "for k in range(0,m):\n",
    "    if A[k,k]!=1:\n",
    "        print('We divide row %d by %s'%(k+1,A[k,k]))\n",
    "        A=A.with_rescaled_row(k,1/A[k,k])\n",
    "        show(A)\n",
    "####        "
   ]
  },
  {
   "cell_type": "markdown",
   "metadata": {},
   "source": [
    "## Solving system of linear equations with RREF"
   ]
  },
  {
   "cell_type": "code",
   "execution_count": 37,
   "metadata": {},
   "outputs": [],
   "source": [
    "A = matrix([[1,1,2],[2,4,-3],[4,6,-5]])\n",
    "b = vector([9,1,1])"
   ]
  },
  {
   "cell_type": "code",
   "execution_count": 38,
   "metadata": {},
   "outputs": [
    {
     "data": {
      "text/plain": [
       "[ 1  1  2| 9]\n",
       "[ 2  4 -3| 1]\n",
       "[ 4  6 -5| 1]"
      ]
     },
     "execution_count": 38,
     "metadata": {},
     "output_type": "execute_result"
    }
   ],
   "source": [
    "Aug = A.augment(b,subdivide=True); Aug"
   ]
  },
  {
   "cell_type": "code",
   "execution_count": 39,
   "metadata": {},
   "outputs": [
    {
     "data": {
      "text/plain": [
       "[1 0 0|1]\n",
       "[0 1 0|2]\n",
       "[0 0 1|3]"
      ]
     },
     "execution_count": 39,
     "metadata": {},
     "output_type": "execute_result"
    }
   ],
   "source": [
    "Aug.rref() # solutions"
   ]
  },
  {
   "cell_type": "code",
   "execution_count": 40,
   "metadata": {},
   "outputs": [
    {
     "data": {
      "text/plain": [
       "[   1    0 11/2    0]\n",
       "[   0    1 -7/2    0]\n",
       "[   0    0    0    1]"
      ]
     },
     "execution_count": 40,
     "metadata": {},
     "output_type": "execute_result"
    }
   ],
   "source": [
    "## No solution example\n",
    "A = matrix([[1,1,2],[2,4,-3],[3,5,-1]])\n",
    "b = vector([9,1,3])\n",
    "aug = A.augment(b)\n",
    "aug.rref()"
   ]
  },
  {
   "cell_type": "code",
   "execution_count": 41,
   "metadata": {},
   "outputs": [
    {
     "data": {
      "text/plain": [
       "[    1     0  11/2  35/2]\n",
       "[    0     1  -7/2 -17/2]\n",
       "[    0     0     0     0]"
      ]
     },
     "execution_count": 41,
     "metadata": {},
     "output_type": "execute_result"
    }
   ],
   "source": [
    "## 2 equations with 3 variables -- infinitely many solutions\n",
    "A = matrix([[1,1,2],[2,4,-3],[3,5,-1]])\n",
    "b = vector([9,1,10])\n",
    "aug = A.augment(b)\n",
    "aug.rref()"
   ]
  },
  {
   "cell_type": "markdown",
   "metadata": {},
   "source": [
    "## Inverse of a matrix using RREF"
   ]
  },
  {
   "cell_type": "code",
   "execution_count": 42,
   "metadata": {},
   "outputs": [
    {
     "data": {
      "text/plain": [
       "[ 1  1  2]\n",
       "[ 2  4 -3]\n",
       "[ 4  6 -5]"
      ]
     },
     "execution_count": 42,
     "metadata": {},
     "output_type": "execute_result"
    }
   ],
   "source": [
    "A = matrix([[1,1,2],[2,4,-3],[4,6,-5]]); A"
   ]
  },
  {
   "cell_type": "code",
   "execution_count": 44,
   "metadata": {},
   "outputs": [
    {
     "data": {
      "text/plain": [
       "[     1      0      0|   1/6 -17/12  11/12]\n",
       "[     0      1      0|   1/6  13/12  -7/12]\n",
       "[     0      0      1|   1/3    1/6   -1/6]"
      ]
     },
     "execution_count": 44,
     "metadata": {},
     "output_type": "execute_result"
    }
   ],
   "source": [
    "M = A.augment(identity_matrix(3),subdivide=True).rref(); M"
   ]
  },
  {
   "cell_type": "code",
   "execution_count": 45,
   "metadata": {},
   "outputs": [
    {
     "data": {
      "text/plain": [
       "[   1/6 -17/12  11/12]\n",
       "[   1/6  13/12  -7/12]\n",
       "[   1/3    1/6   -1/6]"
      ]
     },
     "execution_count": 45,
     "metadata": {},
     "output_type": "execute_result"
    }
   ],
   "source": [
    "A1 = M.submatrix(0,3); A1"
   ]
  },
  {
   "cell_type": "code",
   "execution_count": 46,
   "metadata": {},
   "outputs": [
    {
     "data": {
      "text/plain": [
       "[1 0 0]\n",
       "[0 1 0]\n",
       "[0 0 1]"
      ]
     },
     "execution_count": 46,
     "metadata": {},
     "output_type": "execute_result"
    }
   ],
   "source": [
    "A * A1"
   ]
  },
  {
   "cell_type": "code",
   "execution_count": 47,
   "metadata": {},
   "outputs": [
    {
     "data": {
      "text/plain": [
       "[   1/6 -17/12  11/12]\n",
       "[   1/6  13/12  -7/12]\n",
       "[   1/3    1/6   -1/6]"
      ]
     },
     "execution_count": 47,
     "metadata": {},
     "output_type": "execute_result"
    }
   ],
   "source": [
    "A.inverse() #inbuilt"
   ]
  },
  {
   "cell_type": "markdown",
   "metadata": {},
   "source": [
    "## Meaning of solutions"
   ]
  },
  {
   "cell_type": "code",
   "execution_count": 48,
   "metadata": {},
   "outputs": [],
   "source": [
    "A = matrix([[2,1,1],[2,8,-4],[5,2,3]])\n",
    "b = vector([24,-11,-20])"
   ]
  },
  {
   "cell_type": "code",
   "execution_count": 49,
   "metadata": {},
   "outputs": [
    {
     "data": {
      "text/plain": [
       "(1019/2, -835/2, -1155/2)"
      ]
     },
     "execution_count": 49,
     "metadata": {},
     "output_type": "execute_result"
    }
   ],
   "source": [
    "s = A.solve_right(b); s"
   ]
  },
  {
   "cell_type": "code",
   "execution_count": 50,
   "metadata": {},
   "outputs": [
    {
     "data": {
      "text/plain": [
       "[(2, 2, 5), (1, 8, 2), (1, -4, 3)]"
      ]
     },
     "execution_count": 50,
     "metadata": {},
     "output_type": "execute_result"
    }
   ],
   "source": [
    "a = A.columns(); a"
   ]
  },
  {
   "cell_type": "code",
   "execution_count": 51,
   "metadata": {},
   "outputs": [
    {
     "data": {
      "text/plain": [
       "(24, -11, -20)"
      ]
     },
     "execution_count": 51,
     "metadata": {},
     "output_type": "execute_result"
    }
   ],
   "source": [
    "sum([s[i]*a[i] for i in range(3)]) #b"
   ]
  }
 ],
 "metadata": {
  "kernelspec": {
   "display_name": "SageMath 9.3",
   "language": "sage",
   "name": "sagemath"
  },
  "language_info": {
   "codemirror_mode": {
    "name": "ipython",
    "version": 3
   },
   "file_extension": ".py",
   "mimetype": "text/x-python",
   "name": "python",
   "nbconvert_exporter": "python",
   "pygments_lexer": "ipython3",
   "version": "3.7.10"
  }
 },
 "nbformat": 4,
 "nbformat_minor": 4
}
